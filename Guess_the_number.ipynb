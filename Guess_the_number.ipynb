{
 "cells": [
  {
   "cell_type": "code",
   "execution_count": 1,
   "id": "ebd6defc",
   "metadata": {},
   "outputs": [
    {
     "name": "stdout",
     "output_type": "stream",
     "text": [
      "Your Points:  100\n",
      "Guess the number! or hit any other key to stop the game 5\n",
      "Too Low!!\n",
      "Your Points:  99\n",
      "Guess the number! or hit any other key to stop the game 10\n",
      "Too Low!!\n",
      "Your Points:  98\n",
      "Guess the number! or hit any other key to stop the game 55\n",
      "Too Low!!\n",
      "Your Points:  97\n",
      "Guess the number! or hit any other key to stop the game 100\n",
      "Too High!!\n",
      "Your Points:  96\n",
      "Guess the number! or hit any other key to stop the game 75\n",
      "Too Low!!\n",
      "Your Points:  95\n",
      "Guess the number! or hit any other key to stop the game 80\n",
      "Too Low!!\n",
      "Your Points:  94\n",
      "Guess the number! or hit any other key to stop the game 85\n",
      "Bingo You have 93 points !\n",
      "Would you like to start the game again ? Hit Y/N or y/n: n\n",
      "Thanks for playing !!\n"
     ]
    }
   ],
   "source": [
    "import random as rd\n",
    "\n",
    "# This function generates and returns a random integer from 1 to 100\n",
    "def generate_random_number():\n",
    "    return rd.randint(1,100)\n",
    "# This function compares the random number with user's input(guess) and returns a string:\n",
    "# 'Too Low!!' -> If the guessed number is smaller than the random number\n",
    "# 'Too High!!' -> If the guessed number is greater than the random number\n",
    "# 'Bingo' -> If the guessed number matches the random number\n",
    "def compare(random_number, Guessed_Number):\n",
    "    if random_number - Guessed_Number > 0:\n",
    "        return 'Too Low!!'\n",
    "    elif Guessed_Number - random_number > 0:\n",
    "        return 'Too High!!'\n",
    "    else:\n",
    "        return 'Bingo'\n",
    "# This function takes the user input and returns the points left after all the attempts \n",
    "def game():\n",
    "    points = 100\n",
    "    random_number = generate_random_number()\n",
    "    while True and points > 0:\n",
    "        # try/except checks if the guessed number is an integer between 1 and 100 \n",
    "        try:\n",
    "            print('Your Points: ', points)\n",
    "            Guessed_Number = int(input('Guess the number! or hit any other key to stop the game '))\n",
    "            points = points - 1     # points decrement by 1 for each guess\n",
    "            result = compare(random_number, Guessed_Number)\n",
    "            if result == 'Too High!!':\n",
    "                print(result)                        \n",
    "                continue\n",
    "            elif result == 'Too Low!!':\n",
    "                print(result)\n",
    "                continue\n",
    "            else:\n",
    "                print(result, end =' ')\n",
    "                break\n",
    "        except ValueError:\n",
    "            print('You decided to quit!')\n",
    "            points = -1\n",
    "            break\n",
    "    print('You have', points, 'points !')\n",
    "    return points\n",
    "# This function prints the points and asks the user, if they wish to continue playing\n",
    "def start_game():\n",
    "    points = game()\n",
    "    while True and points > 0:\n",
    "        user_input = input('Would you like to start the game again ? Hit Y/N or y/n: ')\n",
    "        if user_input == 'Y' or user_input == 'y' or user_input == 'N' or user_input == 'n':\n",
    "            break\n",
    "        else:\n",
    "            print('Please enter  Y/N or y/n key!!')\n",
    "            continue\n",
    "    start_game() if user_input == 'Y' or user_input == 'y' else print('Thanks for playing !!')\n",
    "    \n",
    "start_game() "
   ]
  },
  {
   "cell_type": "code",
   "execution_count": null,
   "id": "82af5a6c",
   "metadata": {},
   "outputs": [],
   "source": []
  }
 ],
 "metadata": {
  "kernelspec": {
   "display_name": "Python 3",
   "language": "python",
   "name": "python3"
  },
  "language_info": {
   "codemirror_mode": {
    "name": "ipython",
    "version": 3
   },
   "file_extension": ".py",
   "mimetype": "text/x-python",
   "name": "python",
   "nbconvert_exporter": "python",
   "pygments_lexer": "ipython3",
   "version": "3.8.8"
  }
 },
 "nbformat": 4,
 "nbformat_minor": 5
}
